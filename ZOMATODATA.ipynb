{
 "cells": [
  {
   "cell_type": "code",
   "execution_count": 1,
   "id": "03c2a84a-3ae4-4d8a-985a-93adf026f158",
   "metadata": {},
   "outputs": [],
   "source": [
    "# Zamoto Analysis\n",
    "\n",
    "# Import Libaries\n",
    "import pandas as pd\n",
    "import numpy as np"
   ]
  },
  {
   "cell_type": "code",
   "execution_count": 3,
   "id": "c7cc681f-f825-4910-b1e0-414e777d2c7b",
   "metadata": {},
   "outputs": [
    {
     "name": "stdout",
     "output_type": "stream",
     "text": [
      "      Unnamed: 0           Restaurant Name              City  \\\n",
      "0              0          Le Petit Souffle       Makati City   \n",
      "1              1          Izakaya Kikufuji       Makati City   \n",
      "2              2    Heat - Edsa Shangri-La  Mandaluyong City   \n",
      "3              3                      Ooma  Mandaluyong City   \n",
      "4              4               Sambo Kojin  Mandaluyong City   \n",
      "...          ...                       ...               ...   \n",
      "9537        9546              NamlÛ± Gurme         ÛÁstanbul   \n",
      "9538        9547             Ceviz AÛôacÛ±         ÛÁstanbul   \n",
      "9539        9548                     Huqqa         ÛÁstanbul   \n",
      "9540        9549              Aôôk Kahve         ÛÁstanbul   \n",
      "9541        9550  Walter's Coffee Roastery         ÛÁstanbul   \n",
      "\n",
      "                                                Address  \\\n",
      "0     Third Floor, Century City Mall, Kalayaan Avenu...   \n",
      "1     Little Tokyo, 2277 Chino Roces Avenue, Legaspi...   \n",
      "2     Edsa Shangri-La, 1 Garden Way, Ortigas, Mandal...   \n",
      "3     Third Floor, Mega Fashion Hall, SM Megamall, O...   \n",
      "4     Third Floor, Mega Atrium, SM Megamall, Ortigas...   \n",
      "...                                                 ...   \n",
      "9537  Kemankeô Karamustafa Paôa Mahallesi, RÛ±htÛ±...   \n",
      "9538  Koôuyolu Mahallesi, Muhittin íìstí_ndaÛô Cadd...   \n",
      "9539  Kuruí_eôme Mahallesi, Muallim Naci Caddesi, N...   \n",
      "9540  Kuruí_eôme Mahallesi, Muallim Naci Caddesi, N...   \n",
      "9541  CafeaÛôa Mahallesi, BademaltÛ± Sokak, No 21/B,...   \n",
      "\n",
      "                                        Locality  \\\n",
      "0      Century City Mall, Poblacion, Makati City   \n",
      "1     Little Tokyo, Legaspi Village, Makati City   \n",
      "2     Edsa Shangri-La, Ortigas, Mandaluyong City   \n",
      "3         SM Megamall, Ortigas, Mandaluyong City   \n",
      "4         SM Megamall, Ortigas, Mandaluyong City   \n",
      "...                                          ...   \n",
      "9537                                    Karakí_y   \n",
      "9538                                   Koôuyolu   \n",
      "9539                                 Kuruí_eôme   \n",
      "9540                                 Kuruí_eôme   \n",
      "9541                                        Moda   \n",
      "\n",
      "                              Cuisines  Average Cost for two  \\\n",
      "0           French, Japanese, Desserts                  1100   \n",
      "1                             Japanese                  1200   \n",
      "2     Seafood, Asian, Filipino, Indian                  4000   \n",
      "3                      Japanese, Sushi                  1500   \n",
      "4                     Japanese, Korean                  1500   \n",
      "...                                ...                   ...   \n",
      "9537                           Turkish                    80   \n",
      "9538   World Cuisine, Patisserie, Cafe                   105   \n",
      "9539            Italian, World Cuisine                   170   \n",
      "9540                   Restaurant Cafe                   120   \n",
      "9541                              Cafe                    55   \n",
      "\n",
      "              Currency Has Table booking Has Online delivery  \\\n",
      "0     Botswana Pula(P)               Yes                  No   \n",
      "1     Botswana Pula(P)               Yes                  No   \n",
      "2     Botswana Pula(P)               Yes                  No   \n",
      "3     Botswana Pula(P)                No                  No   \n",
      "4     Botswana Pula(P)               Yes                  No   \n",
      "...                ...               ...                 ...   \n",
      "9537  Turkish Lira(TL)                No                  No   \n",
      "9538  Turkish Lira(TL)                No                  No   \n",
      "9539  Turkish Lira(TL)                No                  No   \n",
      "9540  Turkish Lira(TL)                No                  No   \n",
      "9541  Turkish Lira(TL)                No                  No   \n",
      "\n",
      "     Is delivering now Switch to order menu  Price range  Aggregate rating  \\\n",
      "0                   No                   No            3               4.8   \n",
      "1                   No                   No            3               4.5   \n",
      "2                   No                   No            4               4.4   \n",
      "3                   No                   No            4               4.9   \n",
      "4                   No                   No            4               4.8   \n",
      "...                ...                  ...          ...               ...   \n",
      "9537                No                   No            3               4.1   \n",
      "9538                No                   No            3               4.2   \n",
      "9539                No                   No            4               3.7   \n",
      "9540                No                   No            4               4.0   \n",
      "9541                No                   No            2               4.0   \n",
      "\n",
      "     Rating color Rating text  Votes      Country  \n",
      "0      Dark Green   Excellent    314  Phillipines  \n",
      "1      Dark Green   Excellent    591  Phillipines  \n",
      "2           Green   Very Good    270  Phillipines  \n",
      "3      Dark Green   Excellent    365  Phillipines  \n",
      "4      Dark Green   Excellent    229  Phillipines  \n",
      "...           ...         ...    ...          ...  \n",
      "9537        Green   Very Good    788       Turkey  \n",
      "9538        Green   Very Good   1034       Turkey  \n",
      "9539       Yellow        Good    661       Turkey  \n",
      "9540        Green   Very Good    901       Turkey  \n",
      "9541        Green   Very Good    591       Turkey  \n",
      "\n",
      "[9542 rows x 18 columns]\n"
     ]
    }
   ],
   "source": [
    "df_data = pd.read_csv(\"Clean Zamoto Data.csv\")\n",
    "print(df_data)"
   ]
  },
  {
   "cell_type": "code",
   "execution_count": 7,
   "id": "50bc53fa-4e17-49fb-bf6e-4abced4ab47c",
   "metadata": {},
   "outputs": [
    {
     "name": "stdout",
     "output_type": "stream",
     "text": [
      "<class 'pandas.core.frame.DataFrame'>\n",
      "RangeIndex: 9542 entries, 0 to 9541\n",
      "Data columns (total 18 columns):\n",
      " #   Column                Non-Null Count  Dtype  \n",
      "---  ------                --------------  -----  \n",
      " 0   Unnamed: 0            9542 non-null   int64  \n",
      " 1   Restaurant Name       9542 non-null   object \n",
      " 2   City                  9542 non-null   object \n",
      " 3   Address               9542 non-null   object \n",
      " 4   Locality              9542 non-null   object \n",
      " 5   Cuisines              9542 non-null   object \n",
      " 6   Average Cost for two  9542 non-null   int64  \n",
      " 7   Currency              9542 non-null   object \n",
      " 8   Has Table booking     9542 non-null   object \n",
      " 9   Has Online delivery   9542 non-null   object \n",
      " 10  Is delivering now     9542 non-null   object \n",
      " 11  Switch to order menu  9542 non-null   object \n",
      " 12  Price range           9542 non-null   int64  \n",
      " 13  Aggregate rating      9542 non-null   float64\n",
      " 14  Rating color          9542 non-null   object \n",
      " 15  Rating text           9542 non-null   object \n",
      " 16  Votes                 9542 non-null   int64  \n",
      " 17  Country               9542 non-null   object \n",
      "dtypes: float64(1), int64(4), object(13)\n",
      "memory usage: 1.3+ MB\n"
     ]
    }
   ],
   "source": [
    "#check the datatype\n",
    "df_data.info()"
   ]
  },
  {
   "cell_type": "code",
   "execution_count": 9,
   "id": "5ad21aa7-0d6c-49a8-9e7c-9593a99c19a3",
   "metadata": {},
   "outputs": [
    {
     "name": "stdout",
     "output_type": "stream",
     "text": [
      "Unnamed: 0              0\n",
      "Restaurant Name         0\n",
      "City                    0\n",
      "Address                 0\n",
      "Locality                0\n",
      "Cuisines                0\n",
      "Average Cost for two    0\n",
      "Currency                0\n",
      "Has Table booking       0\n",
      "Has Online delivery     0\n",
      "Is delivering now       0\n",
      "Switch to order menu    0\n",
      "Price range             0\n",
      "Aggregate rating        0\n",
      "Rating color            0\n",
      "Rating text             0\n",
      "Votes                   0\n",
      "Country                 0\n",
      "dtype: int64\n"
     ]
    }
   ],
   "source": [
    "# Check the Null Values\n",
    "print(df_data.isnull().sum())"
   ]
  },
  {
   "cell_type": "code",
   "execution_count": 11,
   "id": "47a6fce7-6408-4e5d-99de-6726cdc7aa1f",
   "metadata": {},
   "outputs": [
    {
     "name": "stdout",
     "output_type": "stream",
     "text": [
      "   Unnamed: 0                           Restaurant Name              City  \\\n",
      "0           0                          Le Petit Souffle       Makati City   \n",
      "1           1                          Izakaya Kikufuji       Makati City   \n",
      "2           2                    Heat - Edsa Shangri-La  Mandaluyong City   \n",
      "3           3                                      Ooma  Mandaluyong City   \n",
      "4           4                               Sambo Kojin  Mandaluyong City   \n",
      "5           5                              Din Tai Fung  Mandaluyong City   \n",
      "6           6                                Buffet 101        Pasay City   \n",
      "7           7                                   Vikings        Pasay City   \n",
      "8           8  Spiral - Sofitel Philippine Plaza Manila        Pasay City   \n",
      "9           9                                  Locavore        Pasig City   \n",
      "\n",
      "                                             Address  \\\n",
      "0  Third Floor, Century City Mall, Kalayaan Avenu...   \n",
      "1  Little Tokyo, 2277 Chino Roces Avenue, Legaspi...   \n",
      "2  Edsa Shangri-La, 1 Garden Way, Ortigas, Mandal...   \n",
      "3  Third Floor, Mega Fashion Hall, SM Megamall, O...   \n",
      "4  Third Floor, Mega Atrium, SM Megamall, Ortigas...   \n",
      "5  Ground Floor, Mega Fashion Hall, SM Megamall, ...   \n",
      "6  Building K, SM By The Bay, Sunset Boulevard, M...   \n",
      "7  Building B, By The Bay, Seaside Boulevard, Mal...   \n",
      "8  Plaza Level, Sofitel Philippine Plaza Manila, ...   \n",
      "9  Brixton Technology Center, 10 Brixton Street, ...   \n",
      "\n",
      "                                          Locality  \\\n",
      "0        Century City Mall, Poblacion, Makati City   \n",
      "1       Little Tokyo, Legaspi Village, Makati City   \n",
      "2       Edsa Shangri-La, Ortigas, Mandaluyong City   \n",
      "3           SM Megamall, Ortigas, Mandaluyong City   \n",
      "4           SM Megamall, Ortigas, Mandaluyong City   \n",
      "5           SM Megamall, Ortigas, Mandaluyong City   \n",
      "6  SM by the Bay, Mall of Asia Complex, Pasay City   \n",
      "7  SM by the Bay, Mall of Asia Complex, Pasay City   \n",
      "8      Sofitel Philippine Plaza Manila, Pasay City   \n",
      "9                                        Kapitolyo   \n",
      "\n",
      "                             Cuisines  Average Cost for two          Currency  \\\n",
      "0          French, Japanese, Desserts                  1100  Botswana Pula(P)   \n",
      "1                            Japanese                  1200  Botswana Pula(P)   \n",
      "2    Seafood, Asian, Filipino, Indian                  4000  Botswana Pula(P)   \n",
      "3                     Japanese, Sushi                  1500  Botswana Pula(P)   \n",
      "4                    Japanese, Korean                  1500  Botswana Pula(P)   \n",
      "5                             Chinese                  1000  Botswana Pula(P)   \n",
      "6                     Asian, European                  2000  Botswana Pula(P)   \n",
      "7  Seafood, Filipino, Asian, European                  2000  Botswana Pula(P)   \n",
      "8             European, Asian, Indian                  6000  Botswana Pula(P)   \n",
      "9                            Filipino                  1100  Botswana Pula(P)   \n",
      "\n",
      "  Has Table booking Has Online delivery Is delivering now  \\\n",
      "0               Yes                  No                No   \n",
      "1               Yes                  No                No   \n",
      "2               Yes                  No                No   \n",
      "3                No                  No                No   \n",
      "4               Yes                  No                No   \n",
      "5                No                  No                No   \n",
      "6               Yes                  No                No   \n",
      "7               Yes                  No                No   \n",
      "8               Yes                  No                No   \n",
      "9               Yes                  No                No   \n",
      "\n",
      "  Switch to order menu  Price range  Aggregate rating Rating color  \\\n",
      "0                   No            3               4.8   Dark Green   \n",
      "1                   No            3               4.5   Dark Green   \n",
      "2                   No            4               4.4        Green   \n",
      "3                   No            4               4.9   Dark Green   \n",
      "4                   No            4               4.8   Dark Green   \n",
      "5                   No            3               4.4        Green   \n",
      "6                   No            4               4.0        Green   \n",
      "7                   No            4               4.2        Green   \n",
      "8                   No            4               4.9   Dark Green   \n",
      "9                   No            3               4.8   Dark Green   \n",
      "\n",
      "  Rating text  Votes      Country  \n",
      "0   Excellent    314  Phillipines  \n",
      "1   Excellent    591  Phillipines  \n",
      "2   Very Good    270  Phillipines  \n",
      "3   Excellent    365  Phillipines  \n",
      "4   Excellent    229  Phillipines  \n",
      "5   Very Good    336  Phillipines  \n",
      "6   Very Good    520  Phillipines  \n",
      "7   Very Good    677  Phillipines  \n",
      "8   Excellent    621  Phillipines  \n",
      "9   Excellent    532  Phillipines  \n"
     ]
    }
   ],
   "source": [
    "# the top 5 rows of sales data\n",
    "print(df_data.head(10))"
   ]
  },
  {
   "cell_type": "code",
   "execution_count": 13,
   "id": "72fb0957-c0de-4304-82d4-9bdcd75f80cf",
   "metadata": {},
   "outputs": [
    {
     "name": "stdout",
     "output_type": "stream",
     "text": [
      "        Unnamed: 0  Average Cost for two  Price range  Aggregate rating  \\\n",
      "count  9542.000000           9542.000000  9542.000000       9542.000000   \n",
      "mean   4779.244184           1200.326137     1.804968          2.665238   \n",
      "std    2755.110039          16128.743876     0.905563          1.516588   \n",
      "min       0.000000              0.000000     1.000000          0.000000   \n",
      "25%    2394.250000            250.000000     1.000000          2.500000   \n",
      "50%    4779.500000            400.000000     2.000000          3.200000   \n",
      "75%    7164.750000            700.000000     2.000000          3.700000   \n",
      "max    9550.000000         800000.000000     4.000000          4.900000   \n",
      "\n",
      "              Votes  \n",
      "count   9542.000000  \n",
      "mean     156.772060  \n",
      "std      430.203324  \n",
      "min        0.000000  \n",
      "25%        5.000000  \n",
      "50%       31.000000  \n",
      "75%      130.000000  \n",
      "max    10934.000000  \n"
     ]
    }
   ],
   "source": [
    "print(df_data.describe())"
   ]
  },
  {
   "cell_type": "code",
   "execution_count": 15,
   "id": "b2e97dd1-baca-4909-aec6-d43fbf9ef962",
   "metadata": {},
   "outputs": [
    {
     "name": "stdout",
     "output_type": "stream",
     "text": [
      "0\n"
     ]
    }
   ],
   "source": [
    "print(df_data.duplicated().sum())"
   ]
  },
  {
   "cell_type": "code",
   "execution_count": 17,
   "id": "706fd46b-0729-453d-9043-b54677db6d8c",
   "metadata": {},
   "outputs": [
    {
     "name": "stdout",
     "output_type": "stream",
     "text": [
      "Index(['Unnamed: 0', 'Restaurant Name', 'City', 'Address', 'Locality',\n",
      "       'Cuisines', 'Average Cost for two', 'Currency', 'Has Table booking',\n",
      "       'Has Online delivery', 'Is delivering now', 'Switch to order menu',\n",
      "       'Price range', 'Aggregate rating', 'Rating color', 'Rating text',\n",
      "       'Votes', 'Country'],\n",
      "      dtype='object')\n"
     ]
    }
   ],
   "source": [
    "print(df_data.columns)"
   ]
  },
  {
   "cell_type": "code",
   "execution_count": 19,
   "id": "828ffc88-62e4-49ec-be4b-2fb5a8cf1b94",
   "metadata": {},
   "outputs": [
    {
     "name": "stdout",
     "output_type": "stream",
     "text": [
      "Unnamed: 0                int64\n",
      "Restaurant Name          object\n",
      "City                     object\n",
      "Address                  object\n",
      "Locality                 object\n",
      "Cuisines                 object\n",
      "Average Cost for two      int64\n",
      "Currency                 object\n",
      "Has Table booking        object\n",
      "Has Online delivery      object\n",
      "Is delivering now        object\n",
      "Switch to order menu     object\n",
      "Price range               int64\n",
      "Aggregate rating        float64\n",
      "Rating color             object\n",
      "Rating text              object\n",
      "Votes                     int64\n",
      "Country                  object\n",
      "dtype: object\n",
      "(9542, 18)\n"
     ]
    }
   ],
   "source": [
    "#check the datatype\n",
    "print(df_data.dtypes)\n",
    "\n",
    "print(df_data.shape)\n"
   ]
  },
  {
   "cell_type": "markdown",
   "id": "b82f9973-4093-4cd4-a36e-e7994ff22256",
   "metadata": {},
   "source": [
    "THANKS YOU"
   ]
  },
  {
   "cell_type": "code",
   "execution_count": null,
   "id": "a0714d94-3e98-4eaa-9ccb-1095fc70f5e7",
   "metadata": {},
   "outputs": [],
   "source": []
  }
 ],
 "metadata": {
  "kernelspec": {
   "display_name": "Python 3 (ipykernel)",
   "language": "python",
   "name": "python3"
  },
  "language_info": {
   "codemirror_mode": {
    "name": "ipython",
    "version": 3
   },
   "file_extension": ".py",
   "mimetype": "text/x-python",
   "name": "python",
   "nbconvert_exporter": "python",
   "pygments_lexer": "ipython3",
   "version": "3.12.4"
  }
 },
 "nbformat": 4,
 "nbformat_minor": 5
}
